{
 "cells": [
  {
   "cell_type": "markdown",
   "id": "loose-assist",
   "metadata": {},
   "source": [
    "This notebook assumes that you have a local instance of the TRAPI Pattern Fragment service running, which is loaded with the nodes/edges from ROBOKOP KG."
   ]
  },
  {
   "cell_type": "code",
   "execution_count": 5,
   "id": "controlling-greek",
   "metadata": {},
   "outputs": [],
   "source": [
    "import requests,json\n",
    "from datetime import datetime as dt"
   ]
  },
  {
   "cell_type": "code",
   "execution_count": 6,
   "id": "psychological-sunrise",
   "metadata": {},
   "outputs": [
    {
     "name": "stdout",
     "output_type": "stream",
     "text": [
      "{\n",
      "  \"message\": {\n",
      "    \"query_graph\": {\n",
      "      \"nodes\": {\n",
      "        \"subnode\": {\n",
      "          \"ids\": [\n",
      "            \"PUBCHEM.COMPOUND:70701426\"\n",
      "          ]\n",
      "        },\n",
      "        \"objnode\": {\n",
      "          \"categories\": [\n",
      "            \"biolink:Gene\"\n",
      "          ]\n",
      "        }\n",
      "      },\n",
      "      \"edges\": {\n",
      "        \"the_edge\": {\n",
      "          \"subject\": \"subnode\",\n",
      "          \"object\": \"objnode\",\n",
      "          \"predicates\": [\n",
      "            \"biolink:affects\"\n",
      "          ],\n",
      "          \"qualifier_constraints\": [\n",
      "            {\n",
      "              \"qualifier_set\": [\n",
      "                {\n",
      "                  \"qualifier_type_id\": \"biolink:object_aspect_qualifier\",\n",
      "                  \"qualifier_value\": \"activity\"\n",
      "                },\n",
      "                {\n",
      "                  \"qualifier_type_id\": \"biolink:object_direction_qualifier\",\n",
      "                  \"qualifier_value\": \"decreased\"\n",
      "                }\n",
      "              ]\n",
      "            }\n",
      "          ]\n",
      "        }\n",
      "      }\n",
      "    }\n",
      "  }\n",
      "}\n"
     ]
    }
   ],
   "source": [
    "query_graph = {\"nodes\": {\"subnode\": {}, \"objnode\": {}},\n",
    "                   \"edges\": {\"the_edge\": {\"subject\": \"subnode\", \"object\": \"objnode\"}}}\n",
    "\n",
    "query_graph[\"edges\"][\"the_edge\"][\"predicates\"] = [\"biolink:affects\"]\n",
    "        \n",
    "query_graph[\"edges\"][\"the_edge\"][\"qualifier_constraints\"]= [\n",
    "            {\n",
    "                \"qualifier_set\": [\n",
    "                    {\n",
    "                        \"qualifier_type_id\": \"biolink:object_aspect_qualifier\",\n",
    "                        \"qualifier_value\": \"activity\"\n",
    "                    },\n",
    "                    {\n",
    "                        \"qualifier_type_id\": \"biolink:object_direction_qualifier\",\n",
    "                        \"qualifier_value\": \"decreased\"\n",
    "                    }\n",
    "                ]\n",
    "            }\n",
    "]\n",
    "\n",
    "query_graph [\"nodes\"][\"subnode\"][\"ids\"] = [\"PUBCHEM.COMPOUND:70701426\"]\n",
    "query_graph [\"nodes\"][\"objnode\"][\"categories\"] = [\"biolink:Gene\"]\n",
    "\n",
    "message = {\"message\":{\"query_graph\":query_graph}}\n",
    "\n",
    "print(json.dumps(message,indent=2))"
   ]
  },
  {
   "cell_type": "code",
   "execution_count": 7,
   "id": "atmospheric-handling",
   "metadata": {},
   "outputs": [],
   "source": [
    "robokop_automat = \"http://automat.renci.org/robokopkg/1.4/query\"\n",
    "robokop_tpf = \"http://localhost:8000/query\""
   ]
  },
  {
   "cell_type": "code",
   "execution_count": 8,
   "id": "caring-invitation",
   "metadata": {},
   "outputs": [],
   "source": [
    "def time_test(input_message, query_url):\n",
    "    now = dt.now()\n",
    "    response = requests.post(query_url, json=message)\n",
    "    later = dt.now()\n",
    "    if response.status_code == 200:\n",
    "        result = response.json()\n",
    "        print(f\"Returned {len(result['message']['results'])} in {later-now}\")\n",
    "        return result\n",
    "    else:\n",
    "        print(f\"Status Code: {response.status_code}\")\n",
    "    return "
   ]
  },
  {
   "cell_type": "code",
   "execution_count": 14,
   "id": "governmental-scottish",
   "metadata": {},
   "outputs": [
    {
     "name": "stdout",
     "output_type": "stream",
     "text": [
      "Returned 5 in 0:00:00.064435\n",
      "[{\"id\": \"NCBIGene:246\"}]\n",
      "[{\"id\": \"NCBIGene:239\"}]\n",
      "[{\"id\": \"NCBIGene:239\"}]\n",
      "[{\"id\": \"NCBIGene:11684\"}]\n",
      "[{\"id\": \"NCBIGene:239\"}]\n"
     ]
    }
   ],
   "source": [
    "r = time_test(message,robokop_tpf)\n",
    "for result in r[\"message\"][\"results\"]:\n",
    "    print(json.dumps(result[\"node_bindings\"][\"objnode\"]))"
   ]
  },
  {
   "cell_type": "code",
   "execution_count": 15,
   "id": "exotic-antarctica",
   "metadata": {},
   "outputs": [
    {
     "name": "stdout",
     "output_type": "stream",
     "text": [
      "Returned 3 in 0:00:00.194257\n",
      "[{\"id\": \"NCBIGene:246\", \"query_id\": null, \"attributes\": null}]\n",
      "[{\"id\": \"NCBIGene:11684\", \"query_id\": null, \"attributes\": null}]\n",
      "[{\"id\": \"NCBIGene:239\", \"query_id\": null, \"attributes\": null}]\n"
     ]
    }
   ],
   "source": [
    "r = time_test(message, robokop_automat)"
   ]
  },
  {
   "cell_type": "code",
   "execution_count": 16,
   "id": "wireless-writer",
   "metadata": {},
   "outputs": [],
   "source": [
    "# Related to asthma"
   ]
  },
  {
   "cell_type": "code",
   "execution_count": 17,
   "id": "premier-myrtle",
   "metadata": {},
   "outputs": [
    {
     "name": "stdout",
     "output_type": "stream",
     "text": [
      "{\n",
      "  \"message\": {\n",
      "    \"query_graph\": {\n",
      "      \"nodes\": {\n",
      "        \"subnode\": {\n",
      "          \"ids\": [\n",
      "            \"MONDO:0004979\"\n",
      "          ]\n",
      "        },\n",
      "        \"objnode\": {\n",
      "          \"categories\": [\n",
      "            \"biolink:NamedThing\"\n",
      "          ]\n",
      "        }\n",
      "      },\n",
      "      \"edges\": {\n",
      "        \"the_edge\": {\n",
      "          \"subject\": \"subnode\",\n",
      "          \"object\": \"objnode\",\n",
      "          \"predicates\": [\n",
      "            \"biolink:related_to\"\n",
      "          ]\n",
      "        }\n",
      "      }\n",
      "    }\n",
      "  }\n",
      "}\n"
     ]
    }
   ],
   "source": [
    "query_graph = {\"nodes\": {\"subnode\": {}, \"objnode\": {}},\n",
    "                   \"edges\": {\"the_edge\": {\"subject\": \"subnode\", \"object\": \"objnode\"}}}\n",
    "\n",
    "query_graph[\"edges\"][\"the_edge\"][\"predicates\"] = [\"biolink:related_to\"]\n",
    "        \n",
    "query_graph [\"nodes\"][\"subnode\"][\"ids\"] = [\"MONDO:0004979\"]\n",
    "query_graph [\"nodes\"][\"objnode\"][\"categories\"] = [\"biolink:NamedThing\"]\n",
    "\n",
    "message = {\"message\":{\"query_graph\":query_graph}}\n",
    "\n",
    "print(json.dumps(message,indent=2))"
   ]
  },
  {
   "cell_type": "code",
   "execution_count": 18,
   "id": "directed-steel",
   "metadata": {},
   "outputs": [
    {
     "name": "stdout",
     "output_type": "stream",
     "text": [
      "Returned 5062 in 0:02:09.111197\n"
     ]
    }
   ],
   "source": [
    "r = time_test(message, robokop_automat)"
   ]
  },
  {
   "cell_type": "code",
   "execution_count": 69,
   "id": "continuous-timothy",
   "metadata": {},
   "outputs": [
    {
     "name": "stdout",
     "output_type": "stream",
     "text": [
      "Returned 6754 in 0:00:09.858578\n"
     ]
    }
   ],
   "source": [
    "rtpf = time_test(message, robokop_tpf)"
   ]
  },
  {
   "cell_type": "code",
   "execution_count": 70,
   "id": "accessible-lancaster",
   "metadata": {},
   "outputs": [],
   "source": [
    "onodes_automat = set([result[\"node_bindings\"][\"objnode\"][0][\"id\"] for result in r[\"message\"][\"results\"]])\n",
    "onodes_tpf = set([result[\"node_bindings\"][\"objnode\"][0][\"id\"] for result in rtpf[\"message\"][\"results\"]])"
   ]
  },
  {
   "cell_type": "code",
   "execution_count": 72,
   "id": "provincial-tactics",
   "metadata": {},
   "outputs": [
    {
     "data": {
      "text/plain": [
       "4401"
      ]
     },
     "execution_count": 72,
     "metadata": {},
     "output_type": "execute_result"
    }
   ],
   "source": [
    "len(onodes_automat)"
   ]
  },
  {
   "cell_type": "code",
   "execution_count": 73,
   "id": "pending-panama",
   "metadata": {},
   "outputs": [
    {
     "data": {
      "text/plain": [
       "4358"
      ]
     },
     "execution_count": 73,
     "metadata": {},
     "output_type": "execute_result"
    }
   ],
   "source": [
    "len(onodes_tpf)"
   ]
  },
  {
   "cell_type": "code",
   "execution_count": 74,
   "id": "blind-pontiac",
   "metadata": {},
   "outputs": [
    {
     "data": {
      "text/plain": [
       "0"
      ]
     },
     "execution_count": 74,
     "metadata": {},
     "output_type": "execute_result"
    }
   ],
   "source": [
    "tpf_only = onodes_tpf.difference(onodes_automat)\n",
    "len(tpf_only)"
   ]
  },
  {
   "cell_type": "code",
   "execution_count": 75,
   "id": "confused-collectible",
   "metadata": {},
   "outputs": [
    {
     "data": {
      "text/plain": [
       "43"
      ]
     },
     "execution_count": 75,
     "metadata": {},
     "output_type": "execute_result"
    }
   ],
   "source": [
    "automat_only = onodes_automat.difference(onodes_tpf)\n",
    "len(automat_only)"
   ]
  },
  {
   "cell_type": "code",
   "execution_count": 79,
   "id": "computational-hampton",
   "metadata": {},
   "outputs": [
    {
     "name": "stdout",
     "output_type": "stream",
     "text": [
      "186\n"
     ]
    }
   ],
   "source": [
    "edge_ids = []\n",
    "for result in r[\"message\"][\"results\"]:\n",
    "    if result[\"node_bindings\"][\"objnode\"][0][\"id\"] in automat_only:\n",
    "        edge_ids.append(result[\"analyses\"][0][\"edge_bindings\"][\"the_edge\"][0][\"id\"])\n",
    "print(len(edge_ids))"
   ]
  },
  {
   "cell_type": "code",
   "execution_count": 82,
   "id": "civic-sussex",
   "metadata": {},
   "outputs": [],
   "source": [
    "for eid in edge_ids:\n",
    "    if not r[\"message\"][\"knowledge_graph\"][\"edges\"][eid][\"predicate\"] == \"biolink:subclass_of\":\n",
    "        print(\"found a missing result\", eid)"
   ]
  },
  {
   "cell_type": "code",
   "execution_count": null,
   "id": "lovely-canvas",
   "metadata": {},
   "outputs": [],
   "source": []
  }
 ],
 "metadata": {
  "kernelspec": {
   "display_name": "Python 3",
   "language": "python",
   "name": "python3"
  },
  "language_info": {
   "codemirror_mode": {
    "name": "ipython",
    "version": 3
   },
   "file_extension": ".py",
   "mimetype": "text/x-python",
   "name": "python",
   "nbconvert_exporter": "python",
   "pygments_lexer": "ipython3",
   "version": "3.9.1"
  }
 },
 "nbformat": 4,
 "nbformat_minor": 5
}
