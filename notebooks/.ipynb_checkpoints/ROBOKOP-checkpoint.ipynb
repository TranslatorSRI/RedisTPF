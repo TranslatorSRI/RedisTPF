{
 "cells": [
  {
   "cell_type": "markdown",
   "id": "loose-assist",
   "metadata": {},
   "source": [
    "This notebook assumes that you have a local instance of the TRAPI Pattern Fragment service running, which is loaded with the nodes/edges from gtopdb."
   ]
  },
  {
   "cell_type": "code",
   "execution_count": 7,
   "id": "controlling-greek",
   "metadata": {},
   "outputs": [],
   "source": [
    "import requests,json\n",
    "from datetime import datetime as dt"
   ]
  },
  {
   "cell_type": "code",
   "execution_count": 39,
   "id": "psychological-sunrise",
   "metadata": {},
   "outputs": [
    {
     "name": "stdout",
     "output_type": "stream",
     "text": [
      "{\n",
      "  \"message\": {\n",
      "    \"query_graph\": {\n",
      "      \"nodes\": {\n",
      "        \"subnode\": {\n",
      "          \"ids\": [\n",
      "            \"PUBCHEM.COMPOUND:70701426\"\n",
      "          ]\n",
      "        },\n",
      "        \"objnode\": {\n",
      "          \"categories\": [\n",
      "            \"biolink:Gene\"\n",
      "          ]\n",
      "        }\n",
      "      },\n",
      "      \"edges\": {\n",
      "        \"the_edge\": {\n",
      "          \"subject\": \"subnode\",\n",
      "          \"object\": \"objnode\",\n",
      "          \"predicates\": [\n",
      "            \"biolink:affects\"\n",
      "          ],\n",
      "          \"qualifier_constraints\": [\n",
      "            {\n",
      "              \"qualifier_set\": [\n",
      "                {\n",
      "                  \"qualifier_type_id\": \"biolink:object_aspect_qualifier\",\n",
      "                  \"qualifier_value\": \"activity\"\n",
      "                },\n",
      "                {\n",
      "                  \"qualifier_type_id\": \"biolink:object_direction_qualifier\",\n",
      "                  \"qualifier_value\": \"decreased\"\n",
      "                }\n",
      "              ]\n",
      "            }\n",
      "          ]\n",
      "        }\n",
      "      }\n",
      "    }\n",
      "  }\n",
      "}\n"
     ]
    }
   ],
   "source": [
    "query_graph = {\"nodes\": {\"subnode\": {}, \"objnode\": {}},\n",
    "                   \"edges\": {\"the_edge\": {\"subject\": \"subnode\", \"object\": \"objnode\"}}}\n",
    "\n",
    "query_graph[\"edges\"][\"the_edge\"][\"predicates\"] = [\"biolink:affects\"]\n",
    "        \n",
    "query_graph[\"edges\"][\"the_edge\"][\"qualifier_constraints\"]= [\n",
    "            {\n",
    "                \"qualifier_set\": [\n",
    "                    {\n",
    "                        \"qualifier_type_id\": \"biolink:object_aspect_qualifier\",\n",
    "                        \"qualifier_value\": \"activity\"\n",
    "                    },\n",
    "                    {\n",
    "                        \"qualifier_type_id\": \"biolink:object_direction_qualifier\",\n",
    "                        \"qualifier_value\": \"decreased\"\n",
    "                    }\n",
    "                ]\n",
    "            }\n",
    "]\n",
    "\n",
    "query_graph [\"nodes\"][\"subnode\"][\"ids\"] = [\"PUBCHEM.COMPOUND:70701426\"]\n",
    "query_graph [\"nodes\"][\"objnode\"][\"categories\"] = [\"biolink:Gene\"]\n",
    "\n",
    "message = {\"message\":{\"query_graph\":query_graph}}\n",
    "\n",
    "print(json.dumps(message,indent=2))"
   ]
  },
  {
   "cell_type": "code",
   "execution_count": 28,
   "id": "atmospheric-handling",
   "metadata": {},
   "outputs": [],
   "source": [
    "gtopdb_automat = \"http://automat.renci.org/gtopdb/1.4/query\"\n",
    "robokop_automat = \"http://automat.renci.org/robokopkg/1.4/query\"\n",
    "gtopdb_tpf = \"http://localhost:8000/query\""
   ]
  },
  {
   "cell_type": "code",
   "execution_count": 40,
   "id": "caring-invitation",
   "metadata": {},
   "outputs": [],
   "source": [
    "def time_test(input_message, query_url):\n",
    "    now = dt.now()\n",
    "    response = requests.post(query_url, json=message)\n",
    "    later = dt.now()\n",
    "    if response.status_code == 200:\n",
    "        result = response.json()\n",
    "        print(f\"Returned {len(result['message']['results'])} in {later-now}\")\n",
    "        return result\n",
    "    else:\n",
    "        print(f\"Status Code: {response.status_code}\")\n",
    "    return "
   ]
  },
  {
   "cell_type": "code",
   "execution_count": 43,
   "id": "governmental-scottish",
   "metadata": {},
   "outputs": [
    {
     "name": "stdout",
     "output_type": "stream",
     "text": [
      "Returned 1 in 0:00:00.019638\n"
     ]
    }
   ],
   "source": [
    "r = time_test(message,gtopdb_tpf)"
   ]
  },
  {
   "cell_type": "code",
   "execution_count": 44,
   "id": "married-township",
   "metadata": {},
   "outputs": [
    {
     "name": "stdout",
     "output_type": "stream",
     "text": [
      "Returned 1 in 0:00:00.131037\n"
     ]
    }
   ],
   "source": [
    "r = time_test(message, gtopdb_automat)"
   ]
  },
  {
   "cell_type": "code",
   "execution_count": 45,
   "id": "exotic-antarctica",
   "metadata": {},
   "outputs": [
    {
     "name": "stdout",
     "output_type": "stream",
     "text": [
      "Returned 3 in 0:00:00.238718\n"
     ]
    }
   ],
   "source": [
    "r = time_test(message, robokop_automat)"
   ]
  },
  {
   "cell_type": "code",
   "execution_count": null,
   "id": "wireless-writer",
   "metadata": {},
   "outputs": [],
   "source": []
  }
 ],
 "metadata": {
  "kernelspec": {
   "display_name": "Python 3",
   "language": "python",
   "name": "python3"
  },
  "language_info": {
   "codemirror_mode": {
    "name": "ipython",
    "version": 3
   },
   "file_extension": ".py",
   "mimetype": "text/x-python",
   "name": "python",
   "nbconvert_exporter": "python",
   "pygments_lexer": "ipython3",
   "version": "3.9.1"
  }
 },
 "nbformat": 4,
 "nbformat_minor": 5
}
